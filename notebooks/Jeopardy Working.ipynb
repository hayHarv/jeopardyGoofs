{
 "cells": [
  {
   "cell_type": "code",
   "execution_count": 4,
   "metadata": {
    "collapsed": true
   },
   "outputs": [],
   "source": [
    "% matplotlib inline\n",
    "import matplotlib.pyplot as plt\n",
    "import sqlite3\n",
    "import os\n",
    "import pandas as pd\n",
    "import sqlalchemy as sa\n"
   ]
  },
  {
   "cell_type": "code",
   "execution_count": 8,
   "metadata": {},
   "outputs": [],
   "source": [
    "conn = sa.create_engine('sqlite:///../Data/jeopardy.sqlite')"
   ]
  },
  {
   "cell_type": "code",
   "execution_count": 9,
   "metadata": {},
   "outputs": [
    {
     "data": {
      "text/html": [
       "<div>\n",
       "<style>\n",
       "    .dataframe thead tr:only-child th {\n",
       "        text-align: right;\n",
       "    }\n",
       "\n",
       "    .dataframe thead th {\n",
       "        text-align: left;\n",
       "    }\n",
       "\n",
       "    .dataframe tbody tr th {\n",
       "        vertical-align: top;\n",
       "    }\n",
       "</style>\n",
       "<table border=\"1\" class=\"dataframe\">\n",
       "  <thead>\n",
       "    <tr style=\"text-align: right;\">\n",
       "      <th></th>\n",
       "      <th>index</th>\n",
       "      <th>game_id</th>\n",
       "      <th>season</th>\n",
       "      <th>round</th>\n",
       "      <th>row</th>\n",
       "      <th>column</th>\n",
       "      <th>category</th>\n",
       "      <th>value</th>\n",
       "      <th>question_text</th>\n",
       "      <th>answer</th>\n",
       "    </tr>\n",
       "  </thead>\n",
       "  <tbody>\n",
       "    <tr>\n",
       "      <th>0</th>\n",
       "      <td>0</td>\n",
       "      <td>5638</td>\n",
       "      <td>33</td>\n",
       "      <td>J</td>\n",
       "      <td>1.0</td>\n",
       "      <td>1.0</td>\n",
       "      <td>GENIUS.</td>\n",
       "      <td>200</td>\n",
       "      <td>Dramatized here is the moment that led to the ...</td>\n",
       "      <td>the theory of relativity</td>\n",
       "    </tr>\n",
       "    <tr>\n",
       "      <th>1</th>\n",
       "      <td>1</td>\n",
       "      <td>5638</td>\n",
       "      <td>33</td>\n",
       "      <td>J</td>\n",
       "      <td>1.0</td>\n",
       "      <td>2.0</td>\n",
       "      <td>EDUCATIONAL FILMS</td>\n",
       "      <td>200</td>\n",
       "      <td>As Ms. Norbury in \"Mean Girls\", she asked, \"Ho...</td>\n",
       "      <td>Tina Fey</td>\n",
       "    </tr>\n",
       "    <tr>\n",
       "      <th>2</th>\n",
       "      <td>2</td>\n",
       "      <td>5638</td>\n",
       "      <td>33</td>\n",
       "      <td>J</td>\n",
       "      <td>1.0</td>\n",
       "      <td>3.0</td>\n",
       "      <td>FIRST NAMES IN THE DICTIONARY</td>\n",
       "      <td>200</td>\n",
       "      <td>Fashionable &amp; high class, like Mr. Bennett</td>\n",
       "      <td>tony</td>\n",
       "    </tr>\n",
       "    <tr>\n",
       "      <th>3</th>\n",
       "      <td>3</td>\n",
       "      <td>5638</td>\n",
       "      <td>33</td>\n",
       "      <td>J</td>\n",
       "      <td>1.0</td>\n",
       "      <td>4.0</td>\n",
       "      <td>FOREIGN GEOGRAPHIC TERMS</td>\n",
       "      <td>200</td>\n",
       "      <td>In French: ile</td>\n",
       "      <td>an island</td>\n",
       "    </tr>\n",
       "    <tr>\n",
       "      <th>4</th>\n",
       "      <td>4</td>\n",
       "      <td>5638</td>\n",
       "      <td>33</td>\n",
       "      <td>J</td>\n",
       "      <td>1.0</td>\n",
       "      <td>5.0</td>\n",
       "      <td>SMALL ENOUGH TO FIT</td>\n",
       "      <td>200</td>\n",
       "      <td>This name for the little bodysuit with a snap ...</td>\n",
       "      <td>onesie</td>\n",
       "    </tr>\n",
       "  </tbody>\n",
       "</table>\n",
       "</div>"
      ],
      "text/plain": [
       "   index  game_id  season round  row  column                       category  \\\n",
       "0      0     5638      33     J  1.0     1.0                        GENIUS.   \n",
       "1      1     5638      33     J  1.0     2.0              EDUCATIONAL FILMS   \n",
       "2      2     5638      33     J  1.0     3.0  FIRST NAMES IN THE DICTIONARY   \n",
       "3      3     5638      33     J  1.0     4.0       FOREIGN GEOGRAPHIC TERMS   \n",
       "4      4     5638      33     J  1.0     5.0            SMALL ENOUGH TO FIT   \n",
       "\n",
       "   value                                      question_text  \\\n",
       "0    200  Dramatized here is the moment that led to the ...   \n",
       "1    200  As Ms. Norbury in \"Mean Girls\", she asked, \"Ho...   \n",
       "2    200         Fashionable & high class, like Mr. Bennett   \n",
       "3    200                                     In French: ile   \n",
       "4    200  This name for the little bodysuit with a snap ...   \n",
       "\n",
       "                     answer  \n",
       "0  the theory of relativity  \n",
       "1                  Tina Fey  \n",
       "2                      tony  \n",
       "3                 an island  \n",
       "4                    onesie  "
      ]
     },
     "execution_count": 9,
     "metadata": {},
     "output_type": "execute_result"
    }
   ],
   "source": [
    "sqlite_file = '../Data/jeopardy.sqlite'\n",
    "\n",
    "questions = pd.read_sql_table('questions', conn)\n",
    "questions.head()"
   ]
  },
  {
   "cell_type": "code",
   "execution_count": null,
   "metadata": {},
   "outputs": [],
   "source": []
  },
  {
   "cell_type": "code",
   "execution_count": null,
   "metadata": {
    "collapsed": true
   },
   "outputs": [],
   "source": []
  }
 ],
 "metadata": {
  "kernelspec": {
   "display_name": "Python [conda root]",
   "language": "python",
   "name": "conda-root-py"
  },
  "language_info": {
   "codemirror_mode": {
    "name": "ipython",
    "version": 3
   },
   "file_extension": ".py",
   "mimetype": "text/x-python",
   "name": "python",
   "nbconvert_exporter": "python",
   "pygments_lexer": "ipython3",
   "version": "3.6.1"
  }
 },
 "nbformat": 4,
 "nbformat_minor": 2
}
